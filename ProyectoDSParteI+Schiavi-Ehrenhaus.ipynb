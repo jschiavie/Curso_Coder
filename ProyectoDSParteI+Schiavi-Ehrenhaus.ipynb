{
 "cells": [
  {
   "cell_type": "markdown",
   "metadata": {},
   "source": [
    "# Resumen"
   ]
  },
  {
   "cell_type": "markdown",
   "metadata": {},
   "source": [
    "La infertilidad es un problema creciente que afecta alrededor del 15% de las parejas en edad reproductiva en todo el mundo. Aunque tradicionalmente se ha asociado la infertilidad con factores femeninos, alrededor del 40-50% de los casos puede ser atribuido a factores masculinos. Por ello, es crucial que, en parejas que experimentan dificultades para concebir, se considere la evaluación tanto del hombre como de la mujer.\n",
    "\n",
    "El análisis de semen, conocido como espermograma, es una herramienta esencial para diagnosticar la infertilidad masculina. Este examen evalúa diversos parámetros del semen, tales como el volumen, la concentración de espermatozoides, su motilidad y la morfología. Los resultados de este análisis proporcionan información clave sobre la salud reproductiva del hombre. Con estos datos, los especialistas pueden determinar el tipo de tratamiento más adecuado, ya sea inseminación artificial, fecundación in vitro (FIV) o el uso de donantes de esperma. \n",
    "\n",
    "Si bien el espermograma es muy útil, en la mayoria de los casos la infertilidad sigue siendo de causa idiopática. Esto significa que, a pesar de los avances en las pruebas y diagnósticos, aún no se pueden identificar todas las razones por las cuales algunos hombres presentan problemas de fertilidad. Por esta razón, se hace necesario mejorar tanto las técnicas utilizadas en el estudio del semen como en el procesamiento de los datos recopilados. Un enfoque más detallado y preciso podría permitir descubrir factores más sutiles que hoy en día se pasan por alto, lo que a su vez abriría nuevas posibilidades para el diagnóstico y tratamiento personalizado de la infertilidad masculina.\n",
    "\n",
    "El objetivo general del siguiente trabajo es hacer uso de las herramientas que aportan las ciencias de datos para profundizar el análisis de los espermogramas. La hipotesis general que rige este analisis es que al aplicar técnicas avanzadas de análisis de datos, como el aprendizaje automático y la inteligencia artificial, es posible identificar patrones complejos en grandes volúmenes de datos que no son detectables a simple vista, lo que permitiría descubrir nuevas causas subyacentes de la infertilidad masculina. \n",
    "\n",
    "En la primera seccion (Seccion 1) del proyecto se utilizara una base de datos de la Organizacion Mundial de la Salud (WHO, 2020) que contiene datos de parametros seminales de hombres con fertilidad comprobada. El objetivo de esta seccion es realizar un estuduio detallado de la fertilidad masculina."
   ]
  },
  {
   "cell_type": "markdown",
   "metadata": {},
   "source": [
    "# Seccion 1"
   ]
  },
  {
   "cell_type": "markdown",
   "metadata": {},
   "source": [
    "Importamos las librerias necesarias para el desarrollo del proyecto:"
   ]
  },
  {
   "cell_type": "code",
   "execution_count": 2,
   "metadata": {},
   "outputs": [],
   "source": [
    "#para el procesamiento de los datos\n",
    "import pandas as pd\n",
    "import numpy as np\n",
    "\n",
    "#para la visualizacion de los datos\n",
    "import matplotlib.pyplot as plt\n",
    "import seaborn as sns"
   ]
  },
  {
   "cell_type": "markdown",
   "metadata": {},
   "source": [
    "Cargamos el dataset \"Fertile man semen parameters 2020 - WHO\":"
   ]
  },
  {
   "cell_type": "code",
   "execution_count": 8,
   "metadata": {},
   "outputs": [],
   "source": [
    "url = 'https://raw.githubusercontent.com/jschiavie/Curso_Coder/refs/heads/main/Fertile_Man_WHO_2020.csv'\n",
    "df_sperm = pd.read_csv(url)"
   ]
  },
  {
   "cell_type": "markdown",
   "metadata": {},
   "source": [
    "#### Informacion general del DataSet"
   ]
  },
  {
   "cell_type": "markdown",
   "metadata": {},
   "source": [
    "Vista general de la tabla:"
   ]
  },
  {
   "cell_type": "code",
   "execution_count": 24,
   "metadata": {},
   "outputs": [
    {
     "data": {
      "text/html": [
       "<div>\n",
       "<style scoped>\n",
       "    .dataframe tbody tr th:only-of-type {\n",
       "        vertical-align: middle;\n",
       "    }\n",
       "\n",
       "    .dataframe tbody tr th {\n",
       "        vertical-align: top;\n",
       "    }\n",
       "\n",
       "    .dataframe thead th {\n",
       "        text-align: right;\n",
       "    }\n",
       "</style>\n",
       "<table border=\"1\" class=\"dataframe\">\n",
       "  <thead>\n",
       "    <tr style=\"text-align: right;\">\n",
       "      <th></th>\n",
       "      <th>Publisher</th>\n",
       "      <th>Semen_Volume</th>\n",
       "      <th>Sperm_Concentration</th>\n",
       "      <th>Total_Number</th>\n",
       "      <th>Total_Motility</th>\n",
       "      <th>Progressive_Motility</th>\n",
       "      <th>Non-progressive_Motility</th>\n",
       "      <th>Immotile_Spermatozoa</th>\n",
       "      <th>Vitality</th>\n",
       "      <th>Normal_Forms</th>\n",
       "    </tr>\n",
       "  </thead>\n",
       "  <tbody>\n",
       "    <tr>\n",
       "      <th>0</th>\n",
       "      <td>Aboutorabi</td>\n",
       "      <td>3.2</td>\n",
       "      <td>27.0</td>\n",
       "      <td>86.4</td>\n",
       "      <td>35.0</td>\n",
       "      <td>20.0</td>\n",
       "      <td>15.0</td>\n",
       "      <td>65.0</td>\n",
       "      <td>NaN</td>\n",
       "      <td>NaN</td>\n",
       "    </tr>\n",
       "    <tr>\n",
       "      <th>1</th>\n",
       "      <td>Aboutorabi</td>\n",
       "      <td>0.8</td>\n",
       "      <td>136.0</td>\n",
       "      <td>108.8</td>\n",
       "      <td>47.0</td>\n",
       "      <td>35.0</td>\n",
       "      <td>12.0</td>\n",
       "      <td>53.0</td>\n",
       "      <td>NaN</td>\n",
       "      <td>NaN</td>\n",
       "    </tr>\n",
       "    <tr>\n",
       "      <th>2</th>\n",
       "      <td>Aboutorabi</td>\n",
       "      <td>2.0</td>\n",
       "      <td>71.0</td>\n",
       "      <td>142.0</td>\n",
       "      <td>49.0</td>\n",
       "      <td>42.0</td>\n",
       "      <td>7.0</td>\n",
       "      <td>51.0</td>\n",
       "      <td>NaN</td>\n",
       "      <td>NaN</td>\n",
       "    </tr>\n",
       "    <tr>\n",
       "      <th>3</th>\n",
       "      <td>Aboutorabi</td>\n",
       "      <td>1.0</td>\n",
       "      <td>35.0</td>\n",
       "      <td>35.0</td>\n",
       "      <td>50.0</td>\n",
       "      <td>28.0</td>\n",
       "      <td>22.0</td>\n",
       "      <td>50.0</td>\n",
       "      <td>NaN</td>\n",
       "      <td>NaN</td>\n",
       "    </tr>\n",
       "    <tr>\n",
       "      <th>4</th>\n",
       "      <td>Aboutorabi</td>\n",
       "      <td>2.0</td>\n",
       "      <td>46.0</td>\n",
       "      <td>92.0</td>\n",
       "      <td>51.0</td>\n",
       "      <td>28.0</td>\n",
       "      <td>33.0</td>\n",
       "      <td>49.0</td>\n",
       "      <td>NaN</td>\n",
       "      <td>NaN</td>\n",
       "    </tr>\n",
       "  </tbody>\n",
       "</table>\n",
       "</div>"
      ],
      "text/plain": [
       "    Publisher  Semen_Volume  Sperm_Concentration  Total_Number  \\\n",
       "0  Aboutorabi           3.2                 27.0          86.4   \n",
       "1  Aboutorabi           0.8                136.0         108.8   \n",
       "2  Aboutorabi           2.0                 71.0         142.0   \n",
       "3  Aboutorabi           1.0                 35.0          35.0   \n",
       "4  Aboutorabi           2.0                 46.0          92.0   \n",
       "\n",
       "   Total_Motility  Progressive_Motility  Non-progressive_Motility  \\\n",
       "0            35.0                  20.0                      15.0   \n",
       "1            47.0                  35.0                      12.0   \n",
       "2            49.0                  42.0                       7.0   \n",
       "3            50.0                  28.0                      22.0   \n",
       "4            51.0                  28.0                      33.0   \n",
       "\n",
       "   Immotile_Spermatozoa  Vitality  Normal_Forms  \n",
       "0                  65.0       NaN           NaN  \n",
       "1                  53.0       NaN           NaN  \n",
       "2                  51.0       NaN           NaN  \n",
       "3                  50.0       NaN           NaN  \n",
       "4                  49.0       NaN           NaN  "
      ]
     },
     "execution_count": 24,
     "metadata": {},
     "output_type": "execute_result"
    }
   ],
   "source": [
    "df_sperm.head()"
   ]
  },
  {
   "cell_type": "code",
   "execution_count": 25,
   "metadata": {},
   "outputs": [
    {
     "data": {
      "text/html": [
       "<div>\n",
       "<style scoped>\n",
       "    .dataframe tbody tr th:only-of-type {\n",
       "        vertical-align: middle;\n",
       "    }\n",
       "\n",
       "    .dataframe tbody tr th {\n",
       "        vertical-align: top;\n",
       "    }\n",
       "\n",
       "    .dataframe thead th {\n",
       "        text-align: right;\n",
       "    }\n",
       "</style>\n",
       "<table border=\"1\" class=\"dataframe\">\n",
       "  <thead>\n",
       "    <tr style=\"text-align: right;\">\n",
       "      <th></th>\n",
       "      <th>Publisher</th>\n",
       "      <th>Semen_Volume</th>\n",
       "      <th>Sperm_Concentration</th>\n",
       "      <th>Total_Number</th>\n",
       "      <th>Total_Motility</th>\n",
       "      <th>Progressive_Motility</th>\n",
       "      <th>Non-progressive_Motility</th>\n",
       "      <th>Immotile_Spermatozoa</th>\n",
       "      <th>Vitality</th>\n",
       "      <th>Normal_Forms</th>\n",
       "    </tr>\n",
       "  </thead>\n",
       "  <tbody>\n",
       "    <tr>\n",
       "      <th>3584</th>\n",
       "      <td>Tang</td>\n",
       "      <td>1.7</td>\n",
       "      <td>23.0</td>\n",
       "      <td>39.1</td>\n",
       "      <td>53.0</td>\n",
       "      <td>52.0</td>\n",
       "      <td>1.0</td>\n",
       "      <td>NaN</td>\n",
       "      <td>82.0</td>\n",
       "      <td>25.0</td>\n",
       "    </tr>\n",
       "    <tr>\n",
       "      <th>3585</th>\n",
       "      <td>Tang</td>\n",
       "      <td>2.5</td>\n",
       "      <td>110.0</td>\n",
       "      <td>275.0</td>\n",
       "      <td>66.0</td>\n",
       "      <td>66.0</td>\n",
       "      <td>0.0</td>\n",
       "      <td>NaN</td>\n",
       "      <td>95.0</td>\n",
       "      <td>30.0</td>\n",
       "    </tr>\n",
       "    <tr>\n",
       "      <th>3586</th>\n",
       "      <td>Tang</td>\n",
       "      <td>2.0</td>\n",
       "      <td>109.0</td>\n",
       "      <td>218.0</td>\n",
       "      <td>64.0</td>\n",
       "      <td>44.0</td>\n",
       "      <td>20.0</td>\n",
       "      <td>36.0</td>\n",
       "      <td>NaN</td>\n",
       "      <td>11.0</td>\n",
       "    </tr>\n",
       "    <tr>\n",
       "      <th>3587</th>\n",
       "      <td>Tang</td>\n",
       "      <td>6.2</td>\n",
       "      <td>96.0</td>\n",
       "      <td>595.2</td>\n",
       "      <td>39.0</td>\n",
       "      <td>29.0</td>\n",
       "      <td>10.0</td>\n",
       "      <td>61.0</td>\n",
       "      <td>NaN</td>\n",
       "      <td>7.0</td>\n",
       "    </tr>\n",
       "    <tr>\n",
       "      <th>3588</th>\n",
       "      <td>Tang</td>\n",
       "      <td>3.0</td>\n",
       "      <td>36.0</td>\n",
       "      <td>108.0</td>\n",
       "      <td>54.0</td>\n",
       "      <td>38.0</td>\n",
       "      <td>16.0</td>\n",
       "      <td>46.0</td>\n",
       "      <td>NaN</td>\n",
       "      <td>11.0</td>\n",
       "    </tr>\n",
       "  </tbody>\n",
       "</table>\n",
       "</div>"
      ],
      "text/plain": [
       "     Publisher  Semen_Volume  Sperm_Concentration  Total_Number  \\\n",
       "3584      Tang           1.7                 23.0          39.1   \n",
       "3585      Tang           2.5                110.0         275.0   \n",
       "3586      Tang           2.0                109.0         218.0   \n",
       "3587      Tang           6.2                 96.0         595.2   \n",
       "3588      Tang           3.0                 36.0         108.0   \n",
       "\n",
       "      Total_Motility  Progressive_Motility  Non-progressive_Motility  \\\n",
       "3584            53.0                  52.0                       1.0   \n",
       "3585            66.0                  66.0                       0.0   \n",
       "3586            64.0                  44.0                      20.0   \n",
       "3587            39.0                  29.0                      10.0   \n",
       "3588            54.0                  38.0                      16.0   \n",
       "\n",
       "      Immotile_Spermatozoa  Vitality  Normal_Forms  \n",
       "3584                   NaN      82.0          25.0  \n",
       "3585                   NaN      95.0          30.0  \n",
       "3586                  36.0       NaN          11.0  \n",
       "3587                  61.0       NaN           7.0  \n",
       "3588                  46.0       NaN          11.0  "
      ]
     },
     "execution_count": 25,
     "metadata": {},
     "output_type": "execute_result"
    }
   ],
   "source": [
    "df_sperm.tail()"
   ]
  },
  {
   "cell_type": "code",
   "execution_count": 26,
   "metadata": {},
   "outputs": [
    {
     "data": {
      "text/plain": [
       "(3589, 10)"
      ]
     },
     "execution_count": 26,
     "metadata": {},
     "output_type": "execute_result"
    }
   ],
   "source": [
    "df_sperm.shape"
   ]
  },
  {
   "cell_type": "markdown",
   "metadata": {},
   "source": [
    "El data set contiene 10 columnas y 3589 filas. El indice representa cada muestra de semen independiente."
   ]
  },
  {
   "cell_type": "code",
   "execution_count": 27,
   "metadata": {},
   "outputs": [
    {
     "data": {
      "text/plain": [
       "Index(['Publisher', 'Semen_Volume', 'Sperm_Concentration', 'Total_Number',\n",
       "       'Total_Motility', 'Progressive_Motility', 'Non-progressive_Motility',\n",
       "       'Immotile_Spermatozoa', 'Vitality', 'Normal_Forms'],\n",
       "      dtype='object')"
      ]
     },
     "execution_count": 27,
     "metadata": {},
     "output_type": "execute_result"
    }
   ],
   "source": [
    "df_sperm. columns"
   ]
  },
  {
   "cell_type": "markdown",
   "metadata": {},
   "source": [
    "Los parametros seminales medidos son:\n",
    "- volumen de muestra\n",
    "- concentracion de espermatozoides (10^6 celulas/ml)\n",
    "- numero total (10^6 celulas)\n",
    "- movilidad total (%)\n",
    "- motilidad progresiva (%)\n",
    "- motilidad no progresiva (%)\n",
    "- espermatozoides inmoviles (%)\n",
    "- viabilidad (%)\n",
    "- forma normal (%)\n",
    "\n",
    "Ademas se agrega una columna que indica el autor del trabajo que recopila los datos (Publisher).\n"
   ]
  },
  {
   "cell_type": "code",
   "execution_count": 29,
   "metadata": {},
   "outputs": [
    {
     "name": "stdout",
     "output_type": "stream",
     "text": [
      "<class 'pandas.core.frame.DataFrame'>\n",
      "RangeIndex: 3589 entries, 0 to 3588\n",
      "Data columns (total 10 columns):\n",
      " #   Column                    Non-Null Count  Dtype  \n",
      "---  ------                    --------------  -----  \n",
      " 0   Publisher                 3589 non-null   object \n",
      " 1   Semen_Volume              3586 non-null   float64\n",
      " 2   Sperm_Concentration       3587 non-null   float64\n",
      " 3   Total_Number              3584 non-null   float64\n",
      " 4   Total_Motility            3488 non-null   float64\n",
      " 5   Progressive_Motility      3389 non-null   float64\n",
      " 6   Non-progressive_Motility  3387 non-null   float64\n",
      " 7   Immotile_Spermatozoa      2800 non-null   float64\n",
      " 8   Vitality                  1337 non-null   float64\n",
      " 9   Normal_Forms              3335 non-null   float64\n",
      "dtypes: float64(9), object(1)\n",
      "memory usage: 280.5+ KB\n"
     ]
    }
   ],
   "source": [
    "df_sperm.info()"
   ]
  },
  {
   "cell_type": "markdown",
   "metadata": {},
   "source": [
    "De este analisis descriptivo ya podemos inferir que 8 de los diez parametros utilizados contiene datos nulos entre las mediciones."
   ]
  },
  {
   "cell_type": "markdown",
   "metadata": {},
   "source": [
    "#### Preprocesamiento"
   ]
  },
  {
   "cell_type": "markdown",
   "metadata": {},
   "source": [
    "Buscamos datos duplicados:"
   ]
  },
  {
   "cell_type": "code",
   "execution_count": 31,
   "metadata": {},
   "outputs": [
    {
     "data": {
      "text/plain": [
       "np.int64(220)"
      ]
     },
     "execution_count": 31,
     "metadata": {},
     "output_type": "execute_result"
    }
   ],
   "source": [
    "df_sperm.duplicated().sum()"
   ]
  },
  {
   "cell_type": "markdown",
   "metadata": {},
   "source": [
    "La tabla tiene 220 datos duplicados. Los eliminamos:"
   ]
  },
  {
   "cell_type": "code",
   "execution_count": 33,
   "metadata": {},
   "outputs": [
    {
     "data": {
      "text/plain": [
       "np.int64(0)"
      ]
     },
     "execution_count": 33,
     "metadata": {},
     "output_type": "execute_result"
    }
   ],
   "source": [
    "df_sperm = df_sperm.drop_duplicates()\n",
    "\n",
    "df_sperm.duplicated().sum()"
   ]
  },
  {
   "cell_type": "code",
   "execution_count": 30,
   "metadata": {},
   "outputs": [
    {
     "data": {
      "text/html": [
       "<div>\n",
       "<style scoped>\n",
       "    .dataframe tbody tr th:only-of-type {\n",
       "        vertical-align: middle;\n",
       "    }\n",
       "\n",
       "    .dataframe tbody tr th {\n",
       "        vertical-align: top;\n",
       "    }\n",
       "\n",
       "    .dataframe thead th {\n",
       "        text-align: right;\n",
       "    }\n",
       "</style>\n",
       "<table border=\"1\" class=\"dataframe\">\n",
       "  <thead>\n",
       "    <tr style=\"text-align: right;\">\n",
       "      <th></th>\n",
       "      <th>Semen_Volume</th>\n",
       "      <th>Sperm_Concentration</th>\n",
       "      <th>Total_Number</th>\n",
       "      <th>Total_Motility</th>\n",
       "      <th>Progressive_Motility</th>\n",
       "      <th>Non-progressive_Motility</th>\n",
       "      <th>Immotile_Spermatozoa</th>\n",
       "      <th>Vitality</th>\n",
       "      <th>Normal_Forms</th>\n",
       "    </tr>\n",
       "  </thead>\n",
       "  <tbody>\n",
       "    <tr>\n",
       "      <th>count</th>\n",
       "      <td>3586.000000</td>\n",
       "      <td>3587.000000</td>\n",
       "      <td>3584.000000</td>\n",
       "      <td>3488.000000</td>\n",
       "      <td>3389.000000</td>\n",
       "      <td>3387.000000</td>\n",
       "      <td>2800.000000</td>\n",
       "      <td>1337.000000</td>\n",
       "      <td>3335.000000</td>\n",
       "    </tr>\n",
       "    <tr>\n",
       "      <th>mean</th>\n",
       "      <td>3.421182</td>\n",
       "      <td>82.576889</td>\n",
       "      <td>270.313842</td>\n",
       "      <td>64.282782</td>\n",
       "      <td>53.641385</td>\n",
       "      <td>10.996956</td>\n",
       "      <td>37.754520</td>\n",
       "      <td>77.091249</td>\n",
       "      <td>16.676462</td>\n",
       "    </tr>\n",
       "    <tr>\n",
       "      <th>std</th>\n",
       "      <td>1.539109</td>\n",
       "      <td>64.507758</td>\n",
       "      <td>232.780551</td>\n",
       "      <td>14.071035</td>\n",
       "      <td>14.100712</td>\n",
       "      <td>9.649534</td>\n",
       "      <td>12.308291</td>\n",
       "      <td>13.347578</td>\n",
       "      <td>11.318816</td>\n",
       "    </tr>\n",
       "    <tr>\n",
       "      <th>min</th>\n",
       "      <td>0.100000</td>\n",
       "      <td>0.900000</td>\n",
       "      <td>2.520000</td>\n",
       "      <td>0.000000</td>\n",
       "      <td>0.000000</td>\n",
       "      <td>0.000000</td>\n",
       "      <td>2.000000</td>\n",
       "      <td>29.000000</td>\n",
       "      <td>0.000000</td>\n",
       "    </tr>\n",
       "    <tr>\n",
       "      <th>25%</th>\n",
       "      <td>2.300000</td>\n",
       "      <td>36.000000</td>\n",
       "      <td>107.875000</td>\n",
       "      <td>55.326816</td>\n",
       "      <td>45.000000</td>\n",
       "      <td>4.000000</td>\n",
       "      <td>30.000000</td>\n",
       "      <td>69.000000</td>\n",
       "      <td>8.000000</td>\n",
       "    </tr>\n",
       "    <tr>\n",
       "      <th>50%</th>\n",
       "      <td>3.010000</td>\n",
       "      <td>66.000000</td>\n",
       "      <td>209.496250</td>\n",
       "      <td>64.000000</td>\n",
       "      <td>54.798762</td>\n",
       "      <td>8.000000</td>\n",
       "      <td>37.000000</td>\n",
       "      <td>78.000000</td>\n",
       "      <td>14.000000</td>\n",
       "    </tr>\n",
       "    <tr>\n",
       "      <th>75%</th>\n",
       "      <td>4.200000</td>\n",
       "      <td>110.000000</td>\n",
       "      <td>362.559375</td>\n",
       "      <td>73.000000</td>\n",
       "      <td>62.666667</td>\n",
       "      <td>15.000000</td>\n",
       "      <td>45.000000</td>\n",
       "      <td>88.000000</td>\n",
       "      <td>23.000000</td>\n",
       "    </tr>\n",
       "    <tr>\n",
       "      <th>max</th>\n",
       "      <td>12.500000</td>\n",
       "      <td>532.000000</td>\n",
       "      <td>3115.200000</td>\n",
       "      <td>100.000000</td>\n",
       "      <td>94.000000</td>\n",
       "      <td>56.000000</td>\n",
       "      <td>100.000000</td>\n",
       "      <td>100.000000</td>\n",
       "      <td>76.000000</td>\n",
       "    </tr>\n",
       "  </tbody>\n",
       "</table>\n",
       "</div>"
      ],
      "text/plain": [
       "       Semen_Volume  Sperm_Concentration  Total_Number  Total_Motility  \\\n",
       "count   3586.000000          3587.000000   3584.000000     3488.000000   \n",
       "mean       3.421182            82.576889    270.313842       64.282782   \n",
       "std        1.539109            64.507758    232.780551       14.071035   \n",
       "min        0.100000             0.900000      2.520000        0.000000   \n",
       "25%        2.300000            36.000000    107.875000       55.326816   \n",
       "50%        3.010000            66.000000    209.496250       64.000000   \n",
       "75%        4.200000           110.000000    362.559375       73.000000   \n",
       "max       12.500000           532.000000   3115.200000      100.000000   \n",
       "\n",
       "       Progressive_Motility  Non-progressive_Motility  Immotile_Spermatozoa  \\\n",
       "count           3389.000000               3387.000000           2800.000000   \n",
       "mean              53.641385                 10.996956             37.754520   \n",
       "std               14.100712                  9.649534             12.308291   \n",
       "min                0.000000                  0.000000              2.000000   \n",
       "25%               45.000000                  4.000000             30.000000   \n",
       "50%               54.798762                  8.000000             37.000000   \n",
       "75%               62.666667                 15.000000             45.000000   \n",
       "max               94.000000                 56.000000            100.000000   \n",
       "\n",
       "          Vitality  Normal_Forms  \n",
       "count  1337.000000   3335.000000  \n",
       "mean     77.091249     16.676462  \n",
       "std      13.347578     11.318816  \n",
       "min      29.000000      0.000000  \n",
       "25%      69.000000      8.000000  \n",
       "50%      78.000000     14.000000  \n",
       "75%      88.000000     23.000000  \n",
       "max     100.000000     76.000000  "
      ]
     },
     "execution_count": 30,
     "metadata": {},
     "output_type": "execute_result"
    }
   ],
   "source": [
    "df_sperm.describe()"
   ]
  },
  {
   "cell_type": "code",
   "execution_count": 12,
   "metadata": {},
   "outputs": [
    {
     "data": {
      "text/plain": [
       "(3589, 10)"
      ]
     },
     "execution_count": 12,
     "metadata": {},
     "output_type": "execute_result"
    }
   ],
   "source": []
  }
 ],
 "metadata": {
  "kernelspec": {
   "display_name": "base",
   "language": "python",
   "name": "python3"
  },
  "language_info": {
   "codemirror_mode": {
    "name": "ipython",
    "version": 3
   },
   "file_extension": ".py",
   "mimetype": "text/x-python",
   "name": "python",
   "nbconvert_exporter": "python",
   "pygments_lexer": "ipython3",
   "version": "3.12.3"
  }
 },
 "nbformat": 4,
 "nbformat_minor": 2
}
